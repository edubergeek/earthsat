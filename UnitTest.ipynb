{
 "cells": [
  {
   "cell_type": "code",
   "execution_count": 1,
   "id": "4eb32500",
   "metadata": {},
   "outputs": [],
   "source": [
    "from astropy.time import Time\n",
    "from astropy.coordinates import EarthLocation\n",
    "from astropy import units as u\n",
    "\n",
    "from TLE import TLE"
   ]
  },
  {
   "cell_type": "markdown",
   "id": "e16f67c2",
   "metadata": {},
   "source": [
    "# Unit Test\n",
    "## UTC Time\n",
    "3 Jan 2024  9:33:40.509780943 2024-01-03T09:33:40.5 \n",
    "## TLE\n",
    "```\n",
    "1 47242U 20097A   24003.39838553 -.00000081  00000-0  00000-0 0  9990\n",
    "2 47242   2.9298  87.9077 0083413 251.6082 107.1585  0.95298003 10736\n",
    "```\n",
    "## Correct Solution\n",
    "```\n",
    "UTC               Local             AZ     Alt    RA         Dec         Airmass Velocity (\"\"/sec) Elongation\n",
    "2024/1/4 04:24:00 2024/1/3 18:24:00 219.11  56.83 353.173189   -6.775123 1.18    14.37             68.15\n",
    "```"
   ]
  },
  {
   "cell_type": "code",
   "execution_count": 2,
   "id": "482cdc6e",
   "metadata": {},
   "outputs": [
    {
     "name": "stdout",
     "output_type": "stream",
     "text": [
      "<TEME Coordinate (obstime=2024-01-04T04:24:00.000): (x, y, z) in km\n",
      "    (43122.09692149, -2825.22467288, -2219.94340484)\n",
      " (v_x, v_y, v_z) in km / s\n",
      "    (0.20633806, 3.04017721, -0.0039748)>\n"
     ]
    }
   ],
   "source": [
    "telescope = EarthLocation.of_site('ukirt')  \n",
    "lines = ('1 47242U 20097A   24003.39838553 -0.00000081  00000-0  00000-0 0 9990',\n",
    "         '2 47242   2.9298  87.9077 0083413 251.6082 107.1585  0.95298003 10736'\n",
    "        )\n",
    "t = Time('2024-01-04T04:24:00', format='isot', scale='utc')\n",
    "\n",
    "tle = TLE()\n",
    "teme = tle.TEME(lines, t)\n",
    "print(teme)"
   ]
  },
  {
   "cell_type": "code",
   "execution_count": 3,
   "id": "d3a66bef",
   "metadata": {},
   "outputs": [
    {
     "name": "stdout",
     "output_type": "stream",
     "text": [
      "Position\n",
      "ALT: 56.82054  AZ:  219.10910 (deg)\n",
      "RA:  353.17294  DEC: -6.77401 (deg)\n",
      "Motion\n",
      "ALT: -0.34908  AZ:  0.44533 (as/sec)\n",
      "RA:  0.04092  DEC: -0.00583 (as/sec)\n"
     ]
    }
   ],
   "source": [
    "tle.SatPos(telescope)\n",
    "print('Position')\n",
    "print('ALT: %5.5f  AZ:  %5.5f (deg)' %(tle.alt.value, tle.az.value))\n",
    "print('RA:  %5.5f  DEC: %5.5f (deg)' %(tle.ra.value, tle.dec.value))\n",
    "print('Motion')\n",
    "print('ALT: %5.5f  AZ:  %5.5f (as/sec)' % (tle.pm_alt.value/1000, tle.pm_az.value/1000))\n",
    "print('RA:  %5.5f  DEC: %5.5f (as/sec)' % (tle.pm_ra.value/1000, tle.pm_dec.value/1000))"
   ]
  },
  {
   "cell_type": "code",
   "execution_count": null,
   "id": "d7ff86ab",
   "metadata": {},
   "outputs": [],
   "source": []
  }
 ],
 "metadata": {
  "kernelspec": {
   "display_name": "Python 3 (ipykernel)",
   "language": "python",
   "name": "python3"
  },
  "language_info": {
   "codemirror_mode": {
    "name": "ipython",
    "version": 3
   },
   "file_extension": ".py",
   "mimetype": "text/x-python",
   "name": "python",
   "nbconvert_exporter": "python",
   "pygments_lexer": "ipython3",
   "version": "3.10.6"
  }
 },
 "nbformat": 4,
 "nbformat_minor": 5
}
